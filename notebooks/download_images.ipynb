{
 "cells": [
  {
   "cell_type": "code",
   "execution_count": 2,
   "metadata": {},
   "outputs": [],
   "source": [
    "import pandas as pd\n",
    "import wget\n",
    "import os"
   ]
  },
  {
   "cell_type": "code",
   "execution_count": 4,
   "metadata": {},
   "outputs": [
    {
     "data": {
      "text/plain": [
       "'/Users/fanbuch/Devel/vivino/simon-thesis/notebooks'"
      ]
     },
     "execution_count": 4,
     "metadata": {},
     "output_type": "execute_result"
    }
   ],
   "source": [
    "import os\n",
    "os.getcwd()"
   ]
  },
  {
   "cell_type": "code",
   "execution_count": 6,
   "metadata": {},
   "outputs": [
    {
     "data": {
      "text/plain": [
       "'user_id'"
      ]
     },
     "execution_count": 6,
     "metadata": {},
     "output_type": "execute_result"
    }
   ],
   "source": [
    "rows"
   ]
  },
  {
   "cell_type": "code",
   "execution_count": 22,
   "metadata": {},
   "outputs": [
    {
     "ename": "TypeError",
     "evalue": "cannot unpack non-iterable int object",
     "output_type": "error",
     "traceback": [
      "\u001b[0;31m---------------------------------------------------------------------------\u001b[0m",
      "\u001b[0;31mTypeError\u001b[0m                                 Traceback (most recent call last)",
      "\u001b[1;32m/Users/fanbuch/Devel/vivino/simon-thesis/notebooks/download_images.ipynb Cell 4'\u001b[0m in \u001b[0;36m<cell line: 3>\u001b[0;34m()\u001b[0m\n\u001b[1;32m      <a href='vscode-notebook-cell:/Users/fanbuch/Devel/vivino/simon-thesis/notebooks/download_images.ipynb#ch0000001?line=0'>1</a>\u001b[0m df_wines \u001b[39m=\u001b[39m pd\u001b[39m.\u001b[39mread_csv(\u001b[39m'\u001b[39m\u001b[39m../Data/shared_vivino_data/review-scan-2019-0201-0301_extended.csv\u001b[39m\u001b[39m'\u001b[39m, index_col\u001b[39m=\u001b[39m\u001b[39m0\u001b[39m, nrows \u001b[39m=\u001b[39m \u001b[39m100\u001b[39m)\n\u001b[0;32m----> <a href='vscode-notebook-cell:/Users/fanbuch/Devel/vivino/simon-thesis/notebooks/download_images.ipynb#ch0000001?line=2'>3</a>\u001b[0m \u001b[39mfor\u001b[39;00m cnt, rows \u001b[39min\u001b[39;00m \u001b[39mrange\u001b[39m(\u001b[39mlen\u001b[39m(df_wines)):\n\u001b[1;32m      <a href='vscode-notebook-cell:/Users/fanbuch/Devel/vivino/simon-thesis/notebooks/download_images.ipynb#ch0000001?line=3'>4</a>\u001b[0m     filename \u001b[39m=\u001b[39m df_wines\u001b[39m.\u001b[39miloc[cnt]\u001b[39m.\u001b[39mimage\u001b[39m.\u001b[39mreplace(\u001b[39m'\u001b[39m\u001b[39mp/\u001b[39m\u001b[39m'\u001b[39m, \u001b[39m'\u001b[39m\u001b[39m'\u001b[39m)\n\u001b[1;32m      <a href='vscode-notebook-cell:/Users/fanbuch/Devel/vivino/simon-thesis/notebooks/download_images.ipynb#ch0000001?line=4'>5</a>\u001b[0m     output_file \u001b[39m=\u001b[39m \u001b[39m'\u001b[39m\u001b[39m../Data/shared_vivino_data/images/\u001b[39m\u001b[39m{0}\u001b[39;00m\u001b[39m'\u001b[39m\u001b[39m.\u001b[39mformat(filename)\n",
      "\u001b[0;31mTypeError\u001b[0m: cannot unpack non-iterable int object"
     ]
    }
   ],
   "source": [
    "df_wines = pd.read_csv('../Data/shared_vivino_data/review-scan-2019-0201-0301_extended.csv', index_col=0, nrows = 100)\n",
    "\n",
    "for cnt in range(len(df_wines)):\n",
    "    filename = df_wines.iloc[cnt].image.replace('p/', '')\n",
    "    output_file = '../Data/shared_vivino_data/images/{0}'.format(filename)\n",
    "\n",
    "    if not os.path.exists(output_file):\n",
    "        URL = 'https://images.vivino.com/labels/{0}'.format(filename)\n",
    "        response = wget.download(URL, output_file)"
   ]
  },
  {
   "cell_type": "code",
   "execution_count": null,
   "metadata": {},
   "outputs": [],
   "source": []
  }
 ],
 "metadata": {
  "interpreter": {
   "hash": "d5a9bcc1188f687827e0ab3b4168997fef7c4be5b88fcc13bc58ac90384c49f7"
  },
  "kernelspec": {
   "display_name": "Python 3.9.12 ('deeprec')",
   "language": "python",
   "name": "python3"
  },
  "language_info": {
   "codemirror_mode": {
    "name": "ipython",
    "version": 3
   },
   "file_extension": ".py",
   "mimetype": "text/x-python",
   "name": "python",
   "nbconvert_exporter": "python",
   "pygments_lexer": "ipython3",
   "version": "3.9.12"
  },
  "orig_nbformat": 4
 },
 "nbformat": 4,
 "nbformat_minor": 2
}
